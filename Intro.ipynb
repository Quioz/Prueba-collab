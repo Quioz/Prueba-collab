{
  "nbformat": 4,
  "nbformat_minor": 0,
  "metadata": {
    "colab": {
      "name": "Intro.ipynb",
      "provenance": [],
      "collapsed_sections": [],
      "toc_visible": true,
      "history_visible": true,
      "authorship_tag": "ABX9TyNuh424sQoSpEeRbJLt07Ce",
      "include_colab_link": true
    },
    "kernelspec": {
      "name": "python3",
      "display_name": "Python 3"
    },
    "language_info": {
      "name": "python"
    }
  },
  "cells": [
    {
      "cell_type": "markdown",
      "metadata": {
        "id": "view-in-github",
        "colab_type": "text"
      },
      "source": [
        "<a href=\"https://colab.research.google.com/github/Quioz/Prueba-collab/blob/main/Intro.ipynb\" target=\"_parent\"><img src=\"https://colab.research.google.com/assets/colab-badge.svg\" alt=\"Open In Colab\"/></a>"
      ]
    },
    {
      "cell_type": "code",
      "source": [
        "print('Hello world')"
      ],
      "metadata": {
        "colab": {
          "base_uri": "https://localhost:8080/"
        },
        "id": "fQVkeM-RDkG_",
        "outputId": "8732d82d-b4d1-45e6-e69d-3896835756af"
      },
      "execution_count": null,
      "outputs": [
        {
          "output_type": "stream",
          "name": "stdout",
          "text": [
            "Hello world\n"
          ]
        }
      ]
    },
    {
      "cell_type": "code",
      "source": [
        "a=int(input('Ingrese el primer numero '))"
      ],
      "metadata": {
        "id": "YjGg8IDhQiYE"
      },
      "execution_count": null,
      "outputs": []
    },
    {
      "cell_type": "code",
      "source": [
        "b=int(input('Ingrese el segundo numero '))"
      ],
      "metadata": {
        "id": "mzyyqypCQ1Zj"
      },
      "execution_count": null,
      "outputs": []
    },
    {
      "cell_type": "code",
      "source": [
        "c=int(input('Ingrese el tercer numero '))"
      ],
      "metadata": {
        "id": "Vv31sNH2Q0lH"
      },
      "execution_count": null,
      "outputs": []
    },
    {
      "cell_type": "code",
      "source": [
        "\n",
        "a=int(input('Ingrese el primer numero '))\n",
        "b=int(input('Ingrese el segundo numero '))\n",
        "c=int(input('Ingrese el tercer numero '))\n",
        "print('el numero menor de {}, {} y {} es y el mayor es {}' .format((a),(b),(c), min(a,b,c), max(a,b,c)))\n"
      ],
      "metadata": {
        "colab": {
          "base_uri": "https://localhost:8080/"
        },
        "id": "CjWoztZyQ-at",
        "outputId": "5278f746-5e61-40bd-c2f5-4067243988ad"
      },
      "execution_count": 4,
      "outputs": [
        {
          "output_type": "stream",
          "name": "stdout",
          "text": [
            "Ingrese el primer numero 5\n",
            "Ingrese el segundo numero 6\n",
            "Ingrese el tercer numero 7\n",
            "el numero menor de 5, 6 y 7 es y el mayor es 5\n"
          ]
        }
      ]
    }
  ]
}